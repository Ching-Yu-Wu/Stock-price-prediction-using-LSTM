{
 "cells": [
  {
   "cell_type": "code",
   "execution_count": 1,
   "metadata": {},
   "outputs": [
    {
     "data": {
      "text/html": [
       "<div>\n",
       "<style scoped>\n",
       "    .dataframe tbody tr th:only-of-type {\n",
       "        vertical-align: middle;\n",
       "    }\n",
       "\n",
       "    .dataframe tbody tr th {\n",
       "        vertical-align: top;\n",
       "    }\n",
       "\n",
       "    .dataframe thead th {\n",
       "        text-align: right;\n",
       "    }\n",
       "</style>\n",
       "<table border=\"1\" class=\"dataframe\">\n",
       "  <thead>\n",
       "    <tr style=\"text-align: right;\">\n",
       "      <th></th>\n",
       "      <th>date</th>\n",
       "      <th>open</th>\n",
       "    </tr>\n",
       "  </thead>\n",
       "  <tbody>\n",
       "    <tr>\n",
       "      <th>0</th>\n",
       "      <td>2013/2/8</td>\n",
       "      <td>15.07</td>\n",
       "    </tr>\n",
       "    <tr>\n",
       "      <th>1</th>\n",
       "      <td>2013/2/11</td>\n",
       "      <td>14.89</td>\n",
       "    </tr>\n",
       "    <tr>\n",
       "      <th>2</th>\n",
       "      <td>2013/2/12</td>\n",
       "      <td>14.45</td>\n",
       "    </tr>\n",
       "    <tr>\n",
       "      <th>3</th>\n",
       "      <td>2013/2/13</td>\n",
       "      <td>14.30</td>\n",
       "    </tr>\n",
       "    <tr>\n",
       "      <th>4</th>\n",
       "      <td>2013/2/14</td>\n",
       "      <td>14.94</td>\n",
       "    </tr>\n",
       "    <tr>\n",
       "      <th>...</th>\n",
       "      <td>...</td>\n",
       "      <td>...</td>\n",
       "    </tr>\n",
       "    <tr>\n",
       "      <th>1254</th>\n",
       "      <td>2018/2/1</td>\n",
       "      <td>54.00</td>\n",
       "    </tr>\n",
       "    <tr>\n",
       "      <th>1255</th>\n",
       "      <td>2018/2/2</td>\n",
       "      <td>53.49</td>\n",
       "    </tr>\n",
       "    <tr>\n",
       "      <th>1256</th>\n",
       "      <td>2018/2/5</td>\n",
       "      <td>51.99</td>\n",
       "    </tr>\n",
       "    <tr>\n",
       "      <th>1257</th>\n",
       "      <td>2018/2/6</td>\n",
       "      <td>49.32</td>\n",
       "    </tr>\n",
       "    <tr>\n",
       "      <th>1258</th>\n",
       "      <td>2018/2/7</td>\n",
       "      <td>50.91</td>\n",
       "    </tr>\n",
       "  </tbody>\n",
       "</table>\n",
       "<p>1259 rows × 2 columns</p>\n",
       "</div>"
      ],
      "text/plain": [
       "           date   open\n",
       "0      2013/2/8  15.07\n",
       "1     2013/2/11  14.89\n",
       "2     2013/2/12  14.45\n",
       "3     2013/2/13  14.30\n",
       "4     2013/2/14  14.94\n",
       "...         ...    ...\n",
       "1254   2018/2/1  54.00\n",
       "1255   2018/2/2  53.49\n",
       "1256   2018/2/5  51.99\n",
       "1257   2018/2/6  49.32\n",
       "1258   2018/2/7  50.91\n",
       "\n",
       "[1259 rows x 2 columns]"
      ]
     },
     "execution_count": 1,
     "metadata": {},
     "output_type": "execute_result"
    }
   ],
   "source": [
    "import pandas as pd\n",
    "import numpy as np\n",
    "import matplotlib.pyplot as plt\n",
    "data_df = pd.read_csv('stock.csv')\n",
    "data_df"
   ]
  },
  {
   "cell_type": "code",
   "execution_count": 2,
   "metadata": {},
   "outputs": [
    {
     "data": {
      "text/plain": [
       "Text(0, 0.5, 'Price')"
      ]
     },
     "execution_count": 2,
     "metadata": {},
     "output_type": "execute_result"
    },
    {
     "data": {
      "image/png": "[encoded data removed]",
      "text/plain": [
       "<Figure size 432x288 with 1 Axes>"
      ]
     },
     "metadata": {
      "needs_background": "light"
     },
     "output_type": "display_data"
    }
   ],
   "source": [
    "data_df['open'].plot()\n",
    "plt.xlabel('Date') # set a xlabel\n",
    "plt.ylabel('Price')"
   ]
  },
  {
   "cell_type": "code",
   "execution_count": 3,
   "metadata": {},
   "outputs": [
    {
     "data": {
      "text/html": [
       "<div>\n",
       "<style scoped>\n",
       "    .dataframe tbody tr th:only-of-type {\n",
       "        vertical-align: middle;\n",
       "    }\n",
       "\n",
       "    .dataframe tbody tr th {\n",
       "        vertical-align: top;\n",
       "    }\n",
       "\n",
       "    .dataframe thead th {\n",
       "        text-align: right;\n",
       "    }\n",
       "</style>\n",
       "<table border=\"1\" class=\"dataframe\">\n",
       "  <thead>\n",
       "    <tr style=\"text-align: right;\">\n",
       "      <th></th>\n",
       "      <th>date</th>\n",
       "      <th>open</th>\n",
       "    </tr>\n",
       "  </thead>\n",
       "  <tbody>\n",
       "    <tr>\n",
       "      <th>0</th>\n",
       "      <td>2013/2/8</td>\n",
       "      <td>15.07</td>\n",
       "    </tr>\n",
       "    <tr>\n",
       "      <th>1</th>\n",
       "      <td>2013/2/11</td>\n",
       "      <td>14.89</td>\n",
       "    </tr>\n",
       "    <tr>\n",
       "      <th>2</th>\n",
       "      <td>2013/2/12</td>\n",
       "      <td>14.45</td>\n",
       "    </tr>\n",
       "    <tr>\n",
       "      <th>3</th>\n",
       "      <td>2013/2/13</td>\n",
       "      <td>14.30</td>\n",
       "    </tr>\n",
       "    <tr>\n",
       "      <th>4</th>\n",
       "      <td>2013/2/14</td>\n",
       "      <td>14.94</td>\n",
       "    </tr>\n",
       "    <tr>\n",
       "      <th>...</th>\n",
       "      <td>...</td>\n",
       "      <td>...</td>\n",
       "    </tr>\n",
       "    <tr>\n",
       "      <th>1244</th>\n",
       "      <td>2018/1/18</td>\n",
       "      <td>58.00</td>\n",
       "    </tr>\n",
       "    <tr>\n",
       "      <th>1245</th>\n",
       "      <td>2018/1/19</td>\n",
       "      <td>58.59</td>\n",
       "    </tr>\n",
       "    <tr>\n",
       "      <th>1246</th>\n",
       "      <td>2018/1/22</td>\n",
       "      <td>57.99</td>\n",
       "    </tr>\n",
       "    <tr>\n",
       "      <th>1247</th>\n",
       "      <td>2018/1/23</td>\n",
       "      <td>57.74</td>\n",
       "    </tr>\n",
       "    <tr>\n",
       "      <th>1248</th>\n",
       "      <td>2018/1/24</td>\n",
       "      <td>54.35</td>\n",
       "    </tr>\n",
       "  </tbody>\n",
       "</table>\n",
       "<p>1249 rows × 2 columns</p>\n",
       "</div>"
      ],
      "text/plain": [
       "           date   open\n",
       "0      2013/2/8  15.07\n",
       "1     2013/2/11  14.89\n",
       "2     2013/2/12  14.45\n",
       "3     2013/2/13  14.30\n",
       "4     2013/2/14  14.94\n",
       "...         ...    ...\n",
       "1244  2018/1/18  58.00\n",
       "1245  2018/1/19  58.59\n",
       "1246  2018/1/22  57.99\n",
       "1247  2018/1/23  57.74\n",
       "1248  2018/1/24  54.35\n",
       "\n",
       "[1249 rows x 2 columns]"
      ]
     },
     "execution_count": 3,
     "metadata": {},
     "output_type": "execute_result"
    }
   ],
   "source": [
    "data_df.head(-10)"
   ]
  },
  {
   "cell_type": "code",
   "execution_count": 4,
   "metadata": {},
   "outputs": [],
   "source": [
    "from sklearn.preprocessing import MinMaxScaler\n",
    "data_rehsape = data_df['open'].values.reshape(-1,1).astype('float32')\n",
    "sc = MinMaxScaler(feature_range = (0, 1))\n",
    "training_set_scaled = sc.fit_transform(data_rehsape)"
   ]
  },
  {
   "cell_type": "code",
   "execution_count": 5,
   "metadata": {},
   "outputs": [],
   "source": [
    "look_back = 20\n",
    "X = []\n",
    "y = []\n",
    "for i in range(look_back, 1258):  # 1258 是訓練集總數\n",
    "    X.append(training_set_scaled[i-look_back:i, 0])\n",
    "    y.append(training_set_scaled[i, 0])\n",
    "X, y = np.array(X), np.array(y) "
   ]
  },
  {
   "cell_type": "code",
   "execution_count": 6,
   "metadata": {},
   "outputs": [],
   "source": [
    "X = X.reshape(X.shape[0], X.shape[1],1)"
   ]
  },
  {
   "cell_type": "code",
   "execution_count": 7,
   "metadata": {},
   "outputs": [],
   "source": [
    "train_size = int(X.shape[0]*0.8)\n",
    "X_train, X_test = X[:train_size], X[train_size:]\n",
    "y_train, y_test = y[:train_size], y[train_size:]"
   ]
  },
  {
   "cell_type": "code",
   "execution_count": 8,
   "metadata": {},
   "outputs": [
    {
     "name": "stdout",
     "output_type": "stream",
     "text": [
      "X_train shape: (990, 20, 1)\n",
      "X_test shape: (248, 20, 1)\n"
     ]
    }
   ],
   "source": [
    "print('X_train shape:', X_train.shape)\n",
    "print('X_test shape:', X_test.shape)"
   ]
  },
  {
   "cell_type": "code",
   "execution_count": 9,
   "metadata": {},
   "outputs": [],
   "source": [
    "from tensorflow.keras.models import Model\n",
    "from tensorflow.keras.layers import Dense, Activation, Input\n",
    "from tensorflow.keras.layers import BatchNormalization, Dropout\n",
    "from tensorflow.keras.layers import Embedding, LSTM\n",
    "from tensorflow.keras.layers import RepeatVector, TimeDistributed\n",
    "from tensorflow.keras.datasets import mnist\n",
    "from tensorflow.keras.callbacks import ReduceLROnPlateau, EarlyStopping\n",
    "from tensorflow.keras.models import Sequential\n"
   ]
  },
  {
   "cell_type": "code",
   "execution_count": 10,
   "metadata": {},
   "outputs": [
    {
     "data": {
      "text/plain": [
       "\"\\nltnt_dim = 1\\ninpt_vec = Input(shape=(X_train.shape[1],X_train.shape[2],))\\nl1 = LSTM(X_train.shape[1]*4)(inpt_vec)\\noutput = Dense(1, activation='linear')(l1)\\nlstm = Model(inpt_vec, output)\\nlstm.compile(loss='mse', optimizer='adam',metrics=['mse'])\\nlstm.summary()\\n\""
      ]
     },
     "execution_count": 10,
     "metadata": {},
     "output_type": "execute_result"
    }
   ],
   "source": [
    "\"\"\"\n",
    "ltnt_dim = 1\n",
    "inpt_vec = Input(shape=(X_train.shape[1],X_train.shape[2],))\n",
    "l1 = LSTM(X_train.shape[1]*4)(inpt_vec)\n",
    "output = Dense(1, activation='linear')(l1)\n",
    "lstm = Model(inpt_vec, output)\n",
    "lstm.compile(loss='mse', optimizer='adam',metrics=['mse'])\n",
    "lstm.summary()\n",
    "\"\"\""
   ]
  },
  {
   "cell_type": "code",
   "execution_count": 11,
   "metadata": {},
   "outputs": [
    {
     "name": "stdout",
     "output_type": "stream",
     "text": [
      "Model: \"sequential\"\n",
      "_________________________________________________________________\n",
      "Layer (type)                 Output Shape              Param #   \n",
      "=================================================================\n",
      "lstm (LSTM)                  (None, 20)                1760      \n",
      "_________________________________________________________________\n",
      "dense (Dense)                (None, 1)                 21        \n",
      "=================================================================\n",
      "Total params: 1,781\n",
      "Trainable params: 1,781\n",
      "Non-trainable params: 0\n",
      "_________________________________________________________________\n"
     ]
    }
   ],
   "source": [
    "lstm = Sequential()\n",
    "lstm.add(LSTM(look_back, input_shape=(look_back, 1)))\n",
    "lstm.add(Dense(1))\n",
    "lstm.compile(loss='mean_squared_error', optimizer='adam')\n",
    "lstm.summary()"
   ]
  },
  {
   "cell_type": "code",
   "execution_count": 12,
   "metadata": {},
   "outputs": [
    {
     "name": "stdout",
     "output_type": "stream",
     "text": [
      "Train on 990 samples, validate on 248 samples\n",
      "Epoch 1/100\n",
      "990/990 [==============================] - 4s 4ms/sample - loss: 0.0019 - val_loss: 0.0054\n",
      "Epoch 2/100\n",
      "990/990 [==============================] - 2s 2ms/sample - loss: 0.0022 - val_loss: 0.0044\n",
      "Epoch 3/100\n",
      "990/990 [==============================] - 2s 2ms/sample - loss: 0.0019 - val_loss: 0.0039\n",
      "Epoch 4/100\n",
      "990/990 [==============================] - 2s 2ms/sample - loss: 0.0016 - val_loss: 0.0033\n",
      "Epoch 5/100\n",
      "990/990 [==============================] - 2s 2ms/sample - loss: 0.0014 - val_loss: 0.0029\n",
      "Epoch 6/100\n",
      "990/990 [==============================] - 2s 2ms/sample - loss: 0.0011 - val_loss: 0.0025\n",
      "Epoch 7/100\n",
      "990/990 [==============================] - 2s 2ms/sample - loss: 9.0306e-04 - val_loss: 0.0022\n",
      "Epoch 8/100\n",
      "990/990 [==============================] - 2s 2ms/sample - loss: 7.3668e-04 - val_loss: 0.0020\n",
      "Epoch 9/100\n",
      "990/990 [==============================] - 2s 2ms/sample - loss: 6.3234e-04 - val_loss: 0.0018\n",
      "Epoch 10/100\n",
      "990/990 [==============================] - 2s 2ms/sample - loss: 5.7103e-04 - val_loss: 0.0018\n",
      "Epoch 11/100\n",
      "990/990 [==============================] - 2s 2ms/sample - loss: 5.2566e-04 - val_loss: 0.0017\n",
      "Epoch 12/100\n",
      "990/990 [==============================] - 2s 2ms/sample - loss: 4.9718e-04 - val_loss: 0.0017\n",
      "Epoch 13/100\n",
      "990/990 [==============================] - 2s 2ms/sample - loss: 4.8538e-04 - val_loss: 0.0016\n",
      "Epoch 14/100\n",
      "977/990 [============================>.] - ETA: 0s - loss: 4.7665e-04\n",
      "Epoch 00014: ReduceLROnPlateau reducing learning rate to 0.0005000000237487257.\n",
      "990/990 [==============================] - 2s 2ms/sample - loss: 4.8640e-04 - val_loss: 0.0017\n",
      "Epoch 15/100\n",
      "990/990 [==============================] - 2s 2ms/sample - loss: 5.0025e-04 - val_loss: 9.1782e-04\n",
      "Epoch 16/100\n",
      "990/990 [==============================] - 2s 2ms/sample - loss: 4.6435e-04 - val_loss: 9.0380e-04\n",
      "Epoch 17/100\n",
      "990/990 [==============================] - 2s 2ms/sample - loss: 4.4969e-04 - val_loss: 9.1763e-04\n",
      "Epoch 18/100\n",
      "987/990 [============================>.] - ETA: 0s - loss: 4.6771e-04\n",
      "Epoch 00018: ReduceLROnPlateau reducing learning rate to 0.0002500000118743628.\n",
      "990/990 [==============================] - 2s 2ms/sample - loss: 4.6764e-04 - val_loss: 9.5793e-04\n",
      "Epoch 19/100\n",
      "990/990 [==============================] - 2s 2ms/sample - loss: 4.6980e-04 - val_loss: 8.1357e-04\n",
      "Epoch 20/100\n",
      "990/990 [==============================] - 2s 2ms/sample - loss: 4.5172e-04 - val_loss: 7.9798e-04\n",
      "Epoch 21/100\n",
      "990/990 [==============================] - 2s 2ms/sample - loss: 4.4737e-04 - val_loss: 7.8536e-04\n",
      "Epoch 22/100\n",
      "988/990 [============================>.] - ETA: 0s - loss: 4.4146e-04- ETA: 0s - l\n",
      "Epoch 00022: ReduceLROnPlateau reducing learning rate to 0.0001250000059371814.\n",
      "990/990 [==============================] - 2s 2ms/sample - loss: 4.4166e-04 - val_loss: 7.7548e-04\n",
      "Epoch 23/100\n",
      "990/990 [==============================] - 2s 3ms/sample - loss: 4.5362e-04 - val_loss: 5.8319e-04\n",
      "Epoch 24/100\n",
      "990/990 [==============================] - 2s 2ms/sample - loss: 4.3332e-04 - val_loss: 5.6370e-04\n",
      "Epoch 25/100\n",
      "990/990 [==============================] - 2s 2ms/sample - loss: 4.2854e-04 - val_loss: 5.5154e-04\n",
      "Epoch 26/100\n",
      "974/990 [============================>.] - ETA: 0s - loss: 4.1709e-04\n",
      "Epoch 00026: ReduceLROnPlateau reducing learning rate to 6.25000029685907e-05.\n",
      "990/990 [==============================] - 2s 2ms/sample - loss: 4.2430e-04 - val_loss: 5.4201e-04\n",
      "Epoch 27/100\n",
      "990/990 [==============================] - 2s 2ms/sample - loss: 4.2831e-04 - val_loss: 5.2886e-04\n",
      "Epoch 28/100\n",
      "990/990 [==============================] - 2s 2ms/sample - loss: 4.1608e-04 - val_loss: 5.1098e-04\n",
      "Epoch 29/100\n",
      "970/990 [============================>.] - ETA: 0s - loss: 4.0803e-04\n",
      "Epoch 00029: ReduceLROnPlateau reducing learning rate to 3.125000148429535e-05.\n",
      "990/990 [==============================] - 2s 2ms/sample - loss: 4.1358e-04 - val_loss: 5.0155e-04\n",
      "Epoch 30/100\n",
      "990/990 [==============================] - 2s 2ms/sample - loss: 4.1790e-04 - val_loss: 4.9922e-04\n",
      "Epoch 31/100\n",
      "990/990 [==============================] - 2s 2ms/sample - loss: 4.1053e-04 - val_loss: 4.7973e-04\n",
      "Epoch 32/100\n",
      "990/990 [==============================] - 2s 2ms/sample - loss: 4.0852e-04 - val_loss: 4.7067e-04\n",
      "Epoch 33/100\n",
      "990/990 [==============================] - 2s 2ms/sample - loss: 4.0687e-04 - val_loss: 4.6445e-04\n",
      "Epoch 34/100\n",
      "970/990 [============================>.] - ETA: 0s - loss: 3.9967e-04\n",
      "Epoch 00034: ReduceLROnPlateau reducing learning rate to 1.5625000742147677e-05.\n",
      "990/990 [==============================] - 2s 2ms/sample - loss: 4.0558e-04 - val_loss: 4.5965e-04\n",
      "Epoch 35/100\n",
      "990/990 [==============================] - 2s 2ms/sample - loss: 4.0578e-04 - val_loss: 4.5427e-04\n",
      "Epoch 36/100\n",
      "990/990 [==============================] - 2s 2ms/sample - loss: 4.0372e-04 - val_loss: 4.4438e-04\n",
      "Epoch 37/100\n",
      "981/990 [============================>.] - ETA: 0s - loss: 4.0355e-04\n",
      "Epoch 00037: ReduceLROnPlateau reducing learning rate to 7.812500371073838e-06.\n",
      "990/990 [==============================] - 2s 2ms/sample - loss: 4.0275e-04 - val_loss: 4.3908e-04\n",
      "Epoch 38/100\n",
      "990/990 [==============================] - 2s 2ms/sample - loss: 4.0191e-04 - val_loss: 4.3204e-04\n",
      "Epoch 39/100\n",
      "990/990 [==============================] - 3s 3ms/sample - loss: 4.0120e-04 - val_loss: 4.2798e-04\n",
      "Epoch 40/100\n",
      "986/990 [============================>.] - ETA: 0s - loss: 4.0076e-04\n",
      "Epoch 00040: ReduceLROnPlateau reducing learning rate to 3.906250185536919e-06.\n",
      "990/990 [==============================] - 2s 3ms/sample - loss: 4.0072e-04 - val_loss: 4.2512e-04\n",
      "Epoch 41/100\n",
      "990/990 [==============================] - 3s 3ms/sample - loss: 3.9999e-04 - val_loss: 4.2118e-04\n",
      "Epoch 42/100\n",
      "990/990 [==============================] - 3s 3ms/sample - loss: 3.9967e-04 - val_loss: 4.1916e-04\n",
      "Epoch 43/100\n",
      "975/990 [============================>.] - ETA: 0s - loss: 3.9138e-04- ETA: 0s - loss: 3.9759e-\n",
      "Epoch 00043: ReduceLROnPlateau reducing learning rate to 1.9531250927684596e-06.\n",
      "990/990 [==============================] - 2s 2ms/sample - loss: 3.9947e-04 - val_loss: 4.1774e-04\n",
      "Epoch 44/100\n",
      "990/990 [==============================] - 2s 2ms/sample - loss: 3.9898e-04 - val_loss: 4.1626e-04\n",
      "Epoch 45/100\n",
      "990/990 [==============================] - 2s 2ms/sample - loss: 3.9886e-04 - val_loss: 4.1522e-04\n",
      "Epoch 46/100\n",
      "987/990 [============================>.] - ETA: 0s - loss: 3.9867e-04\n",
      "Epoch 00046: ReduceLROnPlateau reducing learning rate to 9.765625463842298e-07.\n",
      "990/990 [==============================] - 2s 2ms/sample - loss: 3.9877e-04 - val_loss: 4.1444e-04\n",
      "Epoch 47/100\n",
      "990/990 [==============================] - 2s 2ms/sample - loss: 3.9848e-04 - val_loss: 4.1387e-04\n",
      "Epoch 48/100\n",
      "990/990 [==============================] - 2s 2ms/sample - loss: 3.9844e-04 - val_loss: 4.1338e-04\n",
      "Epoch 49/100\n",
      "983/990 [============================>.] - ETA: 0s - loss: 3.9869e-04\n",
      "Epoch 00049: ReduceLROnPlateau reducing learning rate to 4.882812731921149e-07.\n",
      "990/990 [==============================] - 2s 2ms/sample - loss: 3.9840e-04 - val_loss: 4.1296e-04\n",
      "Epoch 50/100\n",
      "990/990 [==============================] - 2s 2ms/sample - loss: 3.9824e-04 - val_loss: 4.1271e-04\n",
      "Epoch 51/100\n",
      "990/990 [==============================] - 2s 2ms/sample - loss: 3.9823e-04 - val_loss: 4.1247e-04\n",
      "Epoch 52/100\n",
      "976/990 [============================>.] - ETA: 0s - loss: 3.8968e-04\n",
      "Epoch 00052: ReduceLROnPlateau reducing learning rate to 2.4414063659605745e-07.\n",
      "990/990 [==============================] - 2s 2ms/sample - loss: 3.9821e-04 - val_loss: 4.1226e-04\n",
      "Epoch 53/100\n",
      "990/990 [==============================] - 2s 2ms/sample - loss: 3.9813e-04 - val_loss: 4.1213e-04\n",
      "Epoch 54/100\n",
      "990/990 [==============================] - 2s 3ms/sample - loss: 3.9812e-04 - val_loss: 4.1201e-04\n",
      "Epoch 55/100\n",
      "977/990 [============================>.] - ETA: 0s - loss: 3.8958e-04- ETA: 0s - loss: 3.97\n",
      "Epoch 00055: ReduceLROnPlateau reducing learning rate to 1.2207031829802872e-07.\n",
      "990/990 [==============================] - 2s 3ms/sample - loss: 3.9811e-04 - val_loss: 4.1190e-04\n",
      "Epoch 56/100\n",
      "990/990 [==============================] - 2s 2ms/sample - loss: 3.9807e-04 - val_loss: 4.1184e-04\n",
      "Epoch 57/100\n",
      "990/990 [==============================] - 2s 2ms/sample - loss: 3.9807e-04 - val_loss: 4.1177e-04\n",
      "Epoch 58/100\n",
      "977/990 [============================>.] - ETA: 0s - loss: 3.8952e-04\n",
      "Epoch 00058: ReduceLROnPlateau reducing learning rate to 6.103515914901436e-08.\n",
      "990/990 [==============================] - 2s 2ms/sample - loss: 3.9806e-04 - val_loss: 4.1171e-04\n",
      "Epoch 59/100\n",
      "990/990 [==============================] - 2s 2ms/sample - loss: 3.9804e-04 - val_loss: 4.1168e-04\n",
      "Epoch 60/100\n",
      "990/990 [==============================] - 2s 2ms/sample - loss: 3.9804e-04 - val_loss: 4.1164e-04\n",
      "Epoch 61/100\n",
      "970/990 [============================>.] - ETA: 0s - loss: 3.9154e-04\n",
      "Epoch 00061: ReduceLROnPlateau reducing learning rate to 3.051757957450718e-08.\n",
      "990/990 [==============================] - 2s 2ms/sample - loss: 3.9804e-04 - val_loss: 4.1161e-04\n",
      "Epoch 62/100\n",
      "990/990 [==============================] - 3s 3ms/sample - loss: 3.9803e-04 - val_loss: 4.1158e-04\n",
      "Epoch 63/100\n",
      "990/990 [==============================] - 2s 2ms/sample - loss: 3.9802e-04 - val_loss: 4.1156e-04\n",
      "Epoch 64/100\n",
      "978/990 [============================>.] - ETA: 0s - loss: 3.8938e-04\n",
      "Epoch 00064: ReduceLROnPlateau reducing learning rate to 1.525878978725359e-08.\n",
      "990/990 [==============================] - 2s 2ms/sample - loss: 3.9802e-04 - val_loss: 4.1153e-04\n",
      "Epoch 65/100\n",
      "990/990 [==============================] - 3s 3ms/sample - loss: 3.9802e-04 - val_loss: 4.1151e-04\n",
      "Epoch 66/100\n",
      "990/990 [==============================] - 2s 3ms/sample - loss: 3.9802e-04 - val_loss: 4.1150e-04\n",
      "Epoch 67/100\n",
      "979/990 [============================>.] - ETA: 0s - loss: 3.8910e-04\n",
      "Epoch 00067: ReduceLROnPlateau reducing learning rate to 7.629394893626795e-09.\n",
      "990/990 [==============================] - 2s 2ms/sample - loss: 3.9802e-04 - val_loss: 4.1148e-04\n",
      "Epoch 68/100\n",
      "990/990 [==============================] - 2s 3ms/sample - loss: 3.9801e-04 - val_loss: 4.1148e-04\n",
      "Epoch 69/100\n",
      "990/990 [==============================] - 2s 2ms/sample - loss: 3.9801e-04 - val_loss: 4.1148e-04\n",
      "Epoch 70/100\n",
      "974/990 [============================>.] - ETA: 0s - loss: 3.9022e-04\n",
      "Epoch 00070: ReduceLROnPlateau reducing learning rate to 3.814697446813398e-09.\n",
      "990/990 [==============================] - 2s 3ms/sample - loss: 3.9801e-04 - val_loss: 4.1147e-04\n",
      "Epoch 71/100\n",
      "990/990 [==============================] - 2s 3ms/sample - loss: 3.9801e-04 - val_loss: 4.1147e-04\n",
      "Epoch 72/100\n",
      "990/990 [==============================] - 2s 2ms/sample - loss: 3.9801e-04 - val_loss: 4.1147e-04\n",
      "Epoch 73/100\n",
      "983/990 [============================>.] - ETA: 0s - loss: 3.9831e-04\n",
      "Epoch 00073: ReduceLROnPlateau reducing learning rate to 1.907348723406699e-09.\n",
      "990/990 [==============================] - 2s 2ms/sample - loss: 3.9801e-04 - val_loss: 4.1147e-04\n",
      "Epoch 74/100\n",
      "990/990 [==============================] - 2s 2ms/sample - loss: 3.9801e-04 - val_loss: 4.1147e-04\n",
      "Epoch 75/100\n",
      "990/990 [==============================] - 2s 2ms/sample - loss: 3.9801e-04 - val_loss: 4.1147e-04\n",
      "Epoch 76/100\n",
      "984/990 [============================>.] - ETA: 0s - loss: 3.9880e-04\n",
      "Epoch 00076: ReduceLROnPlateau reducing learning rate to 9.536743617033494e-10.\n",
      "990/990 [==============================] - 2s 2ms/sample - loss: 3.9801e-04 - val_loss: 4.1147e-04\n",
      "Epoch 77/100\n",
      "990/990 [==============================] - 2s 2ms/sample - loss: 3.9801e-04 - val_loss: 4.1147e-04\n",
      "Epoch 78/100\n",
      "990/990 [==============================] - 2s 2ms/sample - loss: 3.9801e-04 - val_loss: 4.1147e-04- \n",
      "Epoch 79/100\n",
      "975/990 [============================>.] - ETA: 0s - loss: 3.8983e-04\n",
      "Epoch 00079: ReduceLROnPlateau reducing learning rate to 4.768371808516747e-10.\n",
      "990/990 [==============================] - 2s 3ms/sample - loss: 3.9801e-04 - val_loss: 4.1147e-04\n",
      "Epoch 80/100\n",
      "990/990 [==============================] - 2s 2ms/sample - loss: 3.9801e-04 - val_loss: 4.1147e-04\n",
      "Epoch 81/100\n",
      "990/990 [==============================] - 2s 2ms/sample - loss: 3.9801e-04 - val_loss: 4.1147e-04\n",
      "Epoch 82/100\n",
      "977/990 [============================>.] - ETA: 0s - loss: 3.8947e-04\n",
      "Epoch 00082: ReduceLROnPlateau reducing learning rate to 2.3841859042583735e-10.\n",
      "990/990 [==============================] - 3s 3ms/sample - loss: 3.9801e-04 - val_loss: 4.1147e-04\n",
      "Epoch 83/100\n",
      "990/990 [==============================] - 2s 2ms/sample - loss: 3.9801e-04 - val_loss: 4.1147e-04\n",
      "Epoch 84/100\n",
      "990/990 [==============================] - 3s 3ms/sample - loss: 3.9801e-04 - val_loss: 4.1147e-04\n",
      "Epoch 85/100\n",
      "989/990 [============================>.] - ETA: 0s - loss: 3.9741e-04- ETA: 1s - los - ETA: 0s - loss: 3.99\n",
      "Epoch 00085: ReduceLROnPlateau reducing learning rate to 1.1920929521291868e-10.\n",
      "990/990 [==============================] - 2s 2ms/sample - loss: 3.9801e-04 - val_loss: 4.1147e-04\n",
      "Epoch 86/100\n",
      "990/990 [==============================] - 2s 2ms/sample - loss: 3.9801e-04 - val_loss: 4.1147e-04\n",
      "Epoch 87/100\n",
      "990/990 [==============================] - 3s 3ms/sample - loss: 3.9801e-04 - val_loss: 4.1147e-04\n",
      "Epoch 88/100\n",
      "966/990 [============================>.] - ETA: 0s - loss: 3.9025e-04\n",
      "Epoch 00088: ReduceLROnPlateau reducing learning rate to 5.960464760645934e-11.\n",
      "990/990 [==============================] - 2s 2ms/sample - loss: 3.9801e-04 - val_loss: 4.1147e-04\n",
      "Epoch 89/100\n",
      "990/990 [==============================] - 2s 3ms/sample - loss: 3.9801e-04 - val_loss: 4.1147e-04\n",
      "Epoch 90/100\n",
      "990/990 [==============================] - 2s 2ms/sample - loss: 3.9801e-04 - val_loss: 4.1147e-04\n",
      "Epoch 91/100\n",
      "984/990 [============================>.] - ETA: 0s - loss: 3.9880e-04\n",
      "Epoch 00091: ReduceLROnPlateau reducing learning rate to 2.980232380322967e-11.\n",
      "990/990 [==============================] - 2s 2ms/sample - loss: 3.9801e-04 - val_loss: 4.1147e-04\n",
      "Epoch 92/100\n",
      "990/990 [==============================] - 2s 2ms/sample - loss: 3.9801e-04 - val_loss: 4.1147e-04\n",
      "Epoch 93/100\n",
      "990/990 [==============================] - 2s 3ms/sample - loss: 3.9801e-04 - val_loss: 4.1147e-04\n",
      "Epoch 94/100\n",
      "986/990 [============================>.] - ETA: 0s - loss: 3.9809e-04\n",
      "Epoch 00094: ReduceLROnPlateau reducing learning rate to 1.4901161901614834e-11.\n",
      "990/990 [==============================] - 2s 2ms/sample - loss: 3.9801e-04 - val_loss: 4.1147e-04\n",
      "Epoch 95/100\n",
      "990/990 [==============================] - 3s 3ms/sample - loss: 3.9801e-04 - val_loss: 4.1147e-04\n",
      "Epoch 96/100\n",
      "990/990 [==============================] - 2s 2ms/sample - loss: 3.9801e-04 - val_loss: 4.1147e-04\n",
      "Epoch 97/100\n",
      "985/990 [============================>.] - ETA: 0s - loss: 3.9846e-04\n",
      "Epoch 00097: ReduceLROnPlateau reducing learning rate to 7.450580950807417e-12.\n",
      "990/990 [==============================] - 2s 2ms/sample - loss: 3.9801e-04 - val_loss: 4.1147e-04\n",
      "Epoch 98/100\n",
      "990/990 [==============================] - 2s 2ms/sample - loss: 3.9801e-04 - val_loss: 4.1147e-04\n",
      "Epoch 99/100\n",
      "990/990 [==============================] - 2s 2ms/sample - loss: 3.9801e-04 - val_loss: 4.1147e-04\n",
      "Epoch 100/100\n",
      "984/990 [============================>.] - ETA: 0s - loss: 3.9880e-04\n",
      "Epoch 00100: ReduceLROnPlateau reducing learning rate to 3.725290475403709e-12.\n",
      "990/990 [==============================] - 3s 3ms/sample - loss: 3.9801e-04 - val_loss: 4.1147e-04\n"
     ]
    }
   ],
   "source": [
    "from tensorflow.keras.callbacks import ReduceLROnPlateau, EarlyStopping\n",
    "import matplotlib.pyplot as plt\n",
    "#callbacks\n",
    "reduce_lr = ReduceLROnPlateau(monitor='val_loss', factor=0.5, \n",
    "patience=3,\n",
    "min_delta=1e-4, mode='min', verbose=1)\n",
    "stop_alg = EarlyStopping(monitor='val_loss', patience=30,\n",
    "restore_best_weights=True, verbose=1)\n",
    "#training\n",
    "hist = lstm.fit(X_train, y_train, batch_size=1, epochs=100,\n",
    "callbacks=[stop_alg, reduce_lr], shuffle=False, validation_data=(X_test, y_test))"
   ]
  },
  {
   "cell_type": "code",
   "execution_count": 13,
   "metadata": {},
   "outputs": [
    {
     "data": {
      "image/png": "[encoded data removed]",
      "text/plain": [
       "<Figure size 720x432 with 1 Axes>"
      ]
     },
     "metadata": {
      "needs_background": "light"
     },
     "output_type": "display_data"
    }
   ],
   "source": [
    "fig = plt.figure(figsize=(10,6))\n",
    "plt.plot(hist.history['loss'], color='#785ef0')\n",
    "plt.plot(hist.history['val_loss'], color='#dc267f')\n",
    "plt.title('Model Loss Progress')\n",
    "plt.ylabel('Brinary Cross-Entropy Loss')\n",
    "plt.xlabel('Epoch')\n",
    "plt.legend(['Training Set', 'Test Set'], loc='upper right')\n",
    "plt.show()"
   ]
  },
  {
   "cell_type": "markdown",
   "metadata": {},
   "source": [
    "#### train"
   ]
  },
  {
   "cell_type": "code",
   "execution_count": 14,
   "metadata": {},
   "outputs": [],
   "source": [
    "y_hat = lstm.predict(X_train)"
   ]
  },
  {
   "cell_type": "code",
   "execution_count": 15,
   "metadata": {},
   "outputs": [
    {
     "data": {
      "text/plain": [
       "[<matplotlib.lines.Line2D at 0x22af9511dd8>]"
      ]
     },
     "execution_count": 15,
     "metadata": {},
     "output_type": "execute_result"
    },
    {
     "data": {
      "image/png": "[encoded data removed]",
      "text/plain": [
       "<Figure size 432x288 with 1 Axes>"
      ]
     },
     "metadata": {
      "needs_background": "light"
     },
     "output_type": "display_data"
    }
   ],
   "source": [
    "len_test = np.linspace(0, y_train.shape[0],y_train.shape[0]+1)\n",
    "plt.plot(len_test[1:],sc.inverse_transform(y_train.reshape(-1,1)))\n",
    "plt.plot(len_test[1:],sc.inverse_transform(y_hat))"
   ]
  },
  {
   "cell_type": "markdown",
   "metadata": {},
   "source": [
    "#### test"
   ]
  },
  {
   "cell_type": "code",
   "execution_count": 27,
   "metadata": {},
   "outputs": [],
   "source": [
    "y_hat = lstm.predict(X_test)"
   ]
  },
  {
   "cell_type": "code",
   "execution_count": 28,
   "metadata": {},
   "outputs": [
    {
     "data": {
      "text/plain": [
       "[<matplotlib.lines.Line2D at 0x22af98f8e48>]"
      ]
     },
     "execution_count": 28,
     "metadata": {},
     "output_type": "execute_result"
    },
    {
     "data": {
      "image/png": "[encoded data removed]",
      "text/plain": [
       "<Figure size 432x288 with 1 Axes>"
      ]
     },
     "metadata": {
      "needs_background": "light"
     },
     "output_type": "display_data"
    }
   ],
   "source": [
    "len_test = np.linspace(0, y_test.shape[0],y_test.shape[0]+1)\n",
    "plt.plot(len_test[1:],y_test)\n",
    "plt.plot(len_test[1:],y_hat)"
   ]
  }
 ],
 "metadata": {
  "kernelspec": {
   "display_name": "Python 3",
   "language": "python",
   "name": "python3"
  },
  "language_info": {
   "codemirror_mode": {
    "name": "ipython",
    "version": 3
   },
   "file_extension": ".py",
   "mimetype": "text/x-python",
   "name": "python",
   "nbconvert_exporter": "python",
   "pygments_lexer": "ipython3",
   "version": "3.6.9"
  }
 },
 "nbformat": 4,
 "nbformat_minor": 4
}
